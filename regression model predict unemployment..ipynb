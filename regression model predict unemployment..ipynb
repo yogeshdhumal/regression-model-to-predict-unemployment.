{
 "cells": [
  {
   "cell_type": "code",
   "execution_count": null,
   "id": "62865054",
   "metadata": {},
   "outputs": [],
   "source": []
  },
  {
   "cell_type": "code",
   "execution_count": 1,
   "id": "b47cc5f2",
   "metadata": {},
   "outputs": [],
   "source": [
    "# psavert - personal savings rate.\n",
    "# pce - personal consumption expenditures, in billions of dollars.\n",
    "# uempmed - median duration of unemployment, in weeks.\n",
    "# pop - total population, in thousands.\n",
    "# unemploy- number of unemployed in thousands (dependent variable)."
   ]
  },
  {
   "cell_type": "code",
   "execution_count": 2,
   "id": "27a73986",
   "metadata": {},
   "outputs": [],
   "source": [
    "import pandas as pd\n",
    "import numpy as np\n",
    "from sklearn import model_selection\n",
    "from sklearn.linear_model import LinearRegression\n",
    "from sklearn.linear_model import Ridge\n",
    "from sklearn.linear_model import Lasso\n",
    "from sklearn.linear_model import ElasticNet\n",
    "\n",
    "from sklearn.metrics import r2_score\n",
    "from sklearn.model_selection import train_test_split\n",
    "from sklearn.metrics import mean_squared_error\n",
    "from math import sqrt"
   ]
  },
  {
   "cell_type": "code",
   "execution_count": 3,
   "id": "b71f5f08",
   "metadata": {},
   "outputs": [],
   "source": [
    "df1 = pd.read_csv('PSAVERT.csv') "
   ]
  },
  {
   "cell_type": "code",
   "execution_count": 4,
   "id": "3a4cff82",
   "metadata": {},
   "outputs": [],
   "source": [
    "df2 = pd.read_csv('PCE.csv')"
   ]
  },
  {
   "cell_type": "code",
   "execution_count": 5,
   "id": "276ddc65",
   "metadata": {},
   "outputs": [],
   "source": [
    "df3 = pd.read_csv('UEMPMED.csv')"
   ]
  },
  {
   "cell_type": "code",
   "execution_count": 6,
   "id": "76d9e285",
   "metadata": {},
   "outputs": [],
   "source": [
    "df4 = pd.read_csv('POP.csv')"
   ]
  },
  {
   "cell_type": "code",
   "execution_count": 7,
   "id": "4d494691",
   "metadata": {},
   "outputs": [],
   "source": [
    "df_target = pd.read_csv('UNEMPLOY.csv') "
   ]
  },
  {
   "cell_type": "code",
   "execution_count": 8,
   "id": "dfca6599",
   "metadata": {},
   "outputs": [],
   "source": [
    "df5 = pd.merge(df1,df2,how=\"outer\", on=\"DATE\")"
   ]
  },
  {
   "cell_type": "code",
   "execution_count": 9,
   "id": "d43eaa08",
   "metadata": {},
   "outputs": [],
   "source": [
    "df6 = pd.merge(df3,df4, how=\"outer\", on=\"DATE\")"
   ]
  },
  {
   "cell_type": "code",
   "execution_count": 10,
   "id": "59538b19",
   "metadata": {},
   "outputs": [
    {
     "data": {
      "text/html": [
       "<div>\n",
       "<style scoped>\n",
       "    .dataframe tbody tr th:only-of-type {\n",
       "        vertical-align: middle;\n",
       "    }\n",
       "\n",
       "    .dataframe tbody tr th {\n",
       "        vertical-align: top;\n",
       "    }\n",
       "\n",
       "    .dataframe thead th {\n",
       "        text-align: right;\n",
       "    }\n",
       "</style>\n",
       "<table border=\"1\" class=\"dataframe\">\n",
       "  <thead>\n",
       "    <tr style=\"text-align: right;\">\n",
       "      <th></th>\n",
       "      <th>DATE</th>\n",
       "      <th>PSAVERT</th>\n",
       "      <th>PCE</th>\n",
       "      <th>UEMPMED</th>\n",
       "      <th>POP</th>\n",
       "      <th>UNEMPLOY</th>\n",
       "    </tr>\n",
       "  </thead>\n",
       "  <tbody>\n",
       "    <tr>\n",
       "      <th>0</th>\n",
       "      <td>1959-01-01</td>\n",
       "      <td>11.3</td>\n",
       "      <td>306.1</td>\n",
       "      <td>NaN</td>\n",
       "      <td>176447.0</td>\n",
       "      <td>4068</td>\n",
       "    </tr>\n",
       "    <tr>\n",
       "      <th>1</th>\n",
       "      <td>1959-02-01</td>\n",
       "      <td>10.6</td>\n",
       "      <td>309.6</td>\n",
       "      <td>NaN</td>\n",
       "      <td>176685.0</td>\n",
       "      <td>3965</td>\n",
       "    </tr>\n",
       "    <tr>\n",
       "      <th>2</th>\n",
       "      <td>1959-03-01</td>\n",
       "      <td>10.3</td>\n",
       "      <td>312.7</td>\n",
       "      <td>NaN</td>\n",
       "      <td>176905.0</td>\n",
       "      <td>3801</td>\n",
       "    </tr>\n",
       "    <tr>\n",
       "      <th>3</th>\n",
       "      <td>1959-04-01</td>\n",
       "      <td>11.2</td>\n",
       "      <td>312.2</td>\n",
       "      <td>NaN</td>\n",
       "      <td>177146.0</td>\n",
       "      <td>3571</td>\n",
       "    </tr>\n",
       "    <tr>\n",
       "      <th>4</th>\n",
       "      <td>1959-05-01</td>\n",
       "      <td>10.6</td>\n",
       "      <td>316.1</td>\n",
       "      <td>NaN</td>\n",
       "      <td>177365.0</td>\n",
       "      <td>3479</td>\n",
       "    </tr>\n",
       "  </tbody>\n",
       "</table>\n",
       "</div>"
      ],
      "text/plain": [
       "         DATE  PSAVERT    PCE  UEMPMED       POP  UNEMPLOY\n",
       "0  1959-01-01     11.3  306.1      NaN  176447.0      4068\n",
       "1  1959-02-01     10.6  309.6      NaN  176685.0      3965\n",
       "2  1959-03-01     10.3  312.7      NaN  176905.0      3801\n",
       "3  1959-04-01     11.2  312.2      NaN  177146.0      3571\n",
       "4  1959-05-01     10.6  316.1      NaN  177365.0      3479"
      ]
     },
     "execution_count": 10,
     "metadata": {},
     "output_type": "execute_result"
    }
   ],
   "source": [
    "\n",
    "df7 = pd.merge(df5,df6,how='left',on='DATE')\n",
    "df_final = pd.merge(df7,df_target,how='left',on='DATE')\n",
    "df_final.head()"
   ]
  },
  {
   "cell_type": "code",
   "execution_count": 11,
   "id": "8aea5086",
   "metadata": {},
   "outputs": [
    {
     "name": "stdout",
     "output_type": "stream",
     "text": [
      "<class 'pandas.core.frame.DataFrame'>\n",
      "Int64Index: 659 entries, 102 to 760\n",
      "Data columns (total 6 columns):\n",
      " #   Column    Non-Null Count  Dtype  \n",
      "---  ------    --------------  -----  \n",
      " 0   DATE      659 non-null    object \n",
      " 1   PSAVERT   659 non-null    float64\n",
      " 2   PCE       659 non-null    float64\n",
      " 3   UEMPMED   659 non-null    float64\n",
      " 4   POP       659 non-null    float64\n",
      " 5   UNEMPLOY  659 non-null    int64  \n",
      "dtypes: float64(4), int64(1), object(1)\n",
      "memory usage: 36.0+ KB\n"
     ]
    }
   ],
   "source": [
    "df = df_final.dropna()\n",
    "df.info()"
   ]
  },
  {
   "cell_type": "code",
   "execution_count": 12,
   "id": "bb81a179",
   "metadata": {},
   "outputs": [],
   "source": [
    "\n",
    "df.to_csv('unemployment.csv',index = False)"
   ]
  },
  {
   "cell_type": "code",
   "execution_count": 13,
   "id": "8ddbbd2c",
   "metadata": {},
   "outputs": [],
   "source": [
    "del df['DATE']"
   ]
  },
  {
   "cell_type": "code",
   "execution_count": 14,
   "id": "57b10e2f",
   "metadata": {
    "scrolled": true
   },
   "outputs": [
    {
     "data": {
      "text/plain": [
       "MinMaxScaler()"
      ]
     },
     "execution_count": 14,
     "metadata": {},
     "output_type": "execute_result"
    }
   ],
   "source": [
    "from sklearn.preprocessing import MinMaxScaler\n",
    "scaler = MinMaxScaler()\n",
    "scaler.fit(df)"
   ]
  },
  {
   "cell_type": "code",
   "execution_count": null,
   "id": "b52c112d",
   "metadata": {},
   "outputs": [],
   "source": []
  },
  {
   "cell_type": "code",
   "execution_count": 15,
   "id": "96a032d3",
   "metadata": {},
   "outputs": [
    {
     "data": {
      "text/html": [
       "<div>\n",
       "<style scoped>\n",
       "    .dataframe tbody tr th:only-of-type {\n",
       "        vertical-align: middle;\n",
       "    }\n",
       "\n",
       "    .dataframe tbody tr th {\n",
       "        vertical-align: top;\n",
       "    }\n",
       "\n",
       "    .dataframe thead th {\n",
       "        text-align: right;\n",
       "    }\n",
       "</style>\n",
       "<table border=\"1\" class=\"dataframe\">\n",
       "  <thead>\n",
       "    <tr style=\"text-align: right;\">\n",
       "      <th></th>\n",
       "      <th>PSAVERT</th>\n",
       "      <th>PCE</th>\n",
       "      <th>UEMPMED</th>\n",
       "      <th>POP</th>\n",
       "      <th>UNEMPLOY</th>\n",
       "    </tr>\n",
       "  </thead>\n",
       "  <tbody>\n",
       "    <tr>\n",
       "      <th>count</th>\n",
       "      <td>659.000000</td>\n",
       "      <td>659.000000</td>\n",
       "      <td>659.000000</td>\n",
       "      <td>659.000000</td>\n",
       "      <td>659.000000</td>\n",
       "    </tr>\n",
       "    <tr>\n",
       "      <th>mean</th>\n",
       "      <td>8.576935</td>\n",
       "      <td>6015.381639</td>\n",
       "      <td>8.943399</td>\n",
       "      <td>266227.850868</td>\n",
       "      <td>7799.455235</td>\n",
       "    </tr>\n",
       "    <tr>\n",
       "      <th>std</th>\n",
       "      <td>3.322007</td>\n",
       "      <td>4562.388545</td>\n",
       "      <td>4.106245</td>\n",
       "      <td>41592.043310</td>\n",
       "      <td>2696.516948</td>\n",
       "    </tr>\n",
       "    <tr>\n",
       "      <th>min</th>\n",
       "      <td>2.100000</td>\n",
       "      <td>506.700000</td>\n",
       "      <td>1.500000</td>\n",
       "      <td>198712.000000</td>\n",
       "      <td>2685.000000</td>\n",
       "    </tr>\n",
       "    <tr>\n",
       "      <th>25%</th>\n",
       "      <td>6.400000</td>\n",
       "      <td>1903.650000</td>\n",
       "      <td>6.200000</td>\n",
       "      <td>229313.500000</td>\n",
       "      <td>6270.500000</td>\n",
       "    </tr>\n",
       "    <tr>\n",
       "      <th>50%</th>\n",
       "      <td>8.100000</td>\n",
       "      <td>4841.600000</td>\n",
       "      <td>8.100000</td>\n",
       "      <td>264804.000000</td>\n",
       "      <td>7468.000000</td>\n",
       "    </tr>\n",
       "    <tr>\n",
       "      <th>75%</th>\n",
       "      <td>11.000000</td>\n",
       "      <td>9941.850000</td>\n",
       "      <td>9.650000</td>\n",
       "      <td>305177.000000</td>\n",
       "      <td>8624.000000</td>\n",
       "    </tr>\n",
       "    <tr>\n",
       "      <th>max</th>\n",
       "      <td>33.800000</td>\n",
       "      <td>16956.600000</td>\n",
       "      <td>25.200000</td>\n",
       "      <td>332884.622000</td>\n",
       "      <td>23038.000000</td>\n",
       "    </tr>\n",
       "  </tbody>\n",
       "</table>\n",
       "</div>"
      ],
      "text/plain": [
       "          PSAVERT           PCE     UEMPMED            POP      UNEMPLOY\n",
       "count  659.000000    659.000000  659.000000     659.000000    659.000000\n",
       "mean     8.576935   6015.381639    8.943399  266227.850868   7799.455235\n",
       "std      3.322007   4562.388545    4.106245   41592.043310   2696.516948\n",
       "min      2.100000    506.700000    1.500000  198712.000000   2685.000000\n",
       "25%      6.400000   1903.650000    6.200000  229313.500000   6270.500000\n",
       "50%      8.100000   4841.600000    8.100000  264804.000000   7468.000000\n",
       "75%     11.000000   9941.850000    9.650000  305177.000000   8624.000000\n",
       "max     33.800000  16956.600000   25.200000  332884.622000  23038.000000"
      ]
     },
     "execution_count": 15,
     "metadata": {},
     "output_type": "execute_result"
    }
   ],
   "source": [
    "df.describe()\n"
   ]
  },
  {
   "cell_type": "code",
   "execution_count": 16,
   "id": "0d086676",
   "metadata": {},
   "outputs": [
    {
     "data": {
      "text/html": [
       "<div>\n",
       "<style scoped>\n",
       "    .dataframe tbody tr th:only-of-type {\n",
       "        vertical-align: middle;\n",
       "    }\n",
       "\n",
       "    .dataframe tbody tr th {\n",
       "        vertical-align: top;\n",
       "    }\n",
       "\n",
       "    .dataframe thead th {\n",
       "        text-align: right;\n",
       "    }\n",
       "</style>\n",
       "<table border=\"1\" class=\"dataframe\">\n",
       "  <thead>\n",
       "    <tr style=\"text-align: right;\">\n",
       "      <th></th>\n",
       "      <th>PSAVERT</th>\n",
       "      <th>PCE</th>\n",
       "      <th>UEMPMED</th>\n",
       "      <th>POP</th>\n",
       "      <th>UNEMPLOY</th>\n",
       "    </tr>\n",
       "  </thead>\n",
       "  <tbody>\n",
       "    <tr>\n",
       "      <th>102</th>\n",
       "      <td>12.6</td>\n",
       "      <td>506.7</td>\n",
       "      <td>4.5</td>\n",
       "      <td>198712.000</td>\n",
       "      <td>2944</td>\n",
       "    </tr>\n",
       "    <tr>\n",
       "      <th>103</th>\n",
       "      <td>12.6</td>\n",
       "      <td>509.8</td>\n",
       "      <td>4.7</td>\n",
       "      <td>198911.000</td>\n",
       "      <td>2945</td>\n",
       "    </tr>\n",
       "    <tr>\n",
       "      <th>104</th>\n",
       "      <td>11.9</td>\n",
       "      <td>515.6</td>\n",
       "      <td>4.6</td>\n",
       "      <td>199113.000</td>\n",
       "      <td>2958</td>\n",
       "    </tr>\n",
       "    <tr>\n",
       "      <th>105</th>\n",
       "      <td>12.9</td>\n",
       "      <td>512.2</td>\n",
       "      <td>4.9</td>\n",
       "      <td>199311.000</td>\n",
       "      <td>3143</td>\n",
       "    </tr>\n",
       "    <tr>\n",
       "      <th>106</th>\n",
       "      <td>12.8</td>\n",
       "      <td>517.4</td>\n",
       "      <td>4.7</td>\n",
       "      <td>199498.000</td>\n",
       "      <td>3066</td>\n",
       "    </tr>\n",
       "    <tr>\n",
       "      <th>...</th>\n",
       "      <td>...</td>\n",
       "      <td>...</td>\n",
       "      <td>...</td>\n",
       "      <td>...</td>\n",
       "      <td>...</td>\n",
       "    </tr>\n",
       "    <tr>\n",
       "      <th>756</th>\n",
       "      <td>5.8</td>\n",
       "      <td>16543.3</td>\n",
       "      <td>10.1</td>\n",
       "      <td>332650.428</td>\n",
       "      <td>6513</td>\n",
       "    </tr>\n",
       "    <tr>\n",
       "      <th>757</th>\n",
       "      <td>5.8</td>\n",
       "      <td>16635.8</td>\n",
       "      <td>9.6</td>\n",
       "      <td>332717.925</td>\n",
       "      <td>6270</td>\n",
       "    </tr>\n",
       "    <tr>\n",
       "      <th>758</th>\n",
       "      <td>5.3</td>\n",
       "      <td>16831.2</td>\n",
       "      <td>7.5</td>\n",
       "      <td>332782.634</td>\n",
       "      <td>5952</td>\n",
       "    </tr>\n",
       "    <tr>\n",
       "      <th>759</th>\n",
       "      <td>5.2</td>\n",
       "      <td>16923.9</td>\n",
       "      <td>7.5</td>\n",
       "      <td>332842.301</td>\n",
       "      <td>5941</td>\n",
       "    </tr>\n",
       "    <tr>\n",
       "      <th>760</th>\n",
       "      <td>5.4</td>\n",
       "      <td>16956.6</td>\n",
       "      <td>9.6</td>\n",
       "      <td>332884.622</td>\n",
       "      <td>5950</td>\n",
       "    </tr>\n",
       "  </tbody>\n",
       "</table>\n",
       "<p>659 rows × 5 columns</p>\n",
       "</div>"
      ],
      "text/plain": [
       "     PSAVERT      PCE  UEMPMED         POP  UNEMPLOY\n",
       "102     12.6    506.7      4.5  198712.000      2944\n",
       "103     12.6    509.8      4.7  198911.000      2945\n",
       "104     11.9    515.6      4.6  199113.000      2958\n",
       "105     12.9    512.2      4.9  199311.000      3143\n",
       "106     12.8    517.4      4.7  199498.000      3066\n",
       "..       ...      ...      ...         ...       ...\n",
       "756      5.8  16543.3     10.1  332650.428      6513\n",
       "757      5.8  16635.8      9.6  332717.925      6270\n",
       "758      5.3  16831.2      7.5  332782.634      5952\n",
       "759      5.2  16923.9      7.5  332842.301      5941\n",
       "760      5.4  16956.6      9.6  332884.622      5950\n",
       "\n",
       "[659 rows x 5 columns]"
      ]
     },
     "execution_count": 16,
     "metadata": {},
     "output_type": "execute_result"
    }
   ],
   "source": [
    "df\n"
   ]
  },
  {
   "cell_type": "code",
   "execution_count": 17,
   "id": "d5db319d",
   "metadata": {},
   "outputs": [
    {
     "name": "stderr",
     "output_type": "stream",
     "text": [
      "C:\\Anaconda\\lib\\site-packages\\pandas\\core\\frame.py:3191: SettingWithCopyWarning: \n",
      "A value is trying to be set on a copy of a slice from a DataFrame.\n",
      "Try using .loc[row_indexer,col_indexer] = value instead\n",
      "\n",
      "See the caveats in the documentation: https://pandas.pydata.org/pandas-docs/stable/user_guide/indexing.html#returning-a-view-versus-a-copy\n",
      "  self[k1] = value[k2]\n"
     ]
    },
    {
     "data": {
      "text/html": [
       "<div>\n",
       "<style scoped>\n",
       "    .dataframe tbody tr th:only-of-type {\n",
       "        vertical-align: middle;\n",
       "    }\n",
       "\n",
       "    .dataframe tbody tr th {\n",
       "        vertical-align: top;\n",
       "    }\n",
       "\n",
       "    .dataframe thead th {\n",
       "        text-align: right;\n",
       "    }\n",
       "</style>\n",
       "<table border=\"1\" class=\"dataframe\">\n",
       "  <thead>\n",
       "    <tr style=\"text-align: right;\">\n",
       "      <th></th>\n",
       "      <th>PSAVERT</th>\n",
       "      <th>PCE</th>\n",
       "      <th>UEMPMED</th>\n",
       "      <th>POP</th>\n",
       "      <th>UNEMPLOY</th>\n",
       "    </tr>\n",
       "  </thead>\n",
       "  <tbody>\n",
       "    <tr>\n",
       "      <th>count</th>\n",
       "      <td>659.000000</td>\n",
       "      <td>659.000000</td>\n",
       "      <td>659.000000</td>\n",
       "      <td>659.000000</td>\n",
       "      <td>659.000000</td>\n",
       "    </tr>\n",
       "    <tr>\n",
       "      <th>mean</th>\n",
       "      <td>0.253755</td>\n",
       "      <td>0.354752</td>\n",
       "      <td>0.354897</td>\n",
       "      <td>0.799760</td>\n",
       "      <td>7799.455235</td>\n",
       "    </tr>\n",
       "    <tr>\n",
       "      <th>std</th>\n",
       "      <td>0.098284</td>\n",
       "      <td>0.269063</td>\n",
       "      <td>0.162946</td>\n",
       "      <td>0.124944</td>\n",
       "      <td>2696.516948</td>\n",
       "    </tr>\n",
       "    <tr>\n",
       "      <th>min</th>\n",
       "      <td>0.062130</td>\n",
       "      <td>0.029882</td>\n",
       "      <td>0.059524</td>\n",
       "      <td>0.596940</td>\n",
       "      <td>2685.000000</td>\n",
       "    </tr>\n",
       "    <tr>\n",
       "      <th>25%</th>\n",
       "      <td>0.189349</td>\n",
       "      <td>0.112266</td>\n",
       "      <td>0.246032</td>\n",
       "      <td>0.688868</td>\n",
       "      <td>6270.500000</td>\n",
       "    </tr>\n",
       "    <tr>\n",
       "      <th>50%</th>\n",
       "      <td>0.239645</td>\n",
       "      <td>0.285529</td>\n",
       "      <td>0.321429</td>\n",
       "      <td>0.795483</td>\n",
       "      <td>7468.000000</td>\n",
       "    </tr>\n",
       "    <tr>\n",
       "      <th>75%</th>\n",
       "      <td>0.325444</td>\n",
       "      <td>0.586312</td>\n",
       "      <td>0.382937</td>\n",
       "      <td>0.916765</td>\n",
       "      <td>8624.000000</td>\n",
       "    </tr>\n",
       "    <tr>\n",
       "      <th>max</th>\n",
       "      <td>1.000000</td>\n",
       "      <td>1.000000</td>\n",
       "      <td>1.000000</td>\n",
       "      <td>1.000000</td>\n",
       "      <td>23038.000000</td>\n",
       "    </tr>\n",
       "  </tbody>\n",
       "</table>\n",
       "</div>"
      ],
      "text/plain": [
       "          PSAVERT         PCE     UEMPMED         POP      UNEMPLOY\n",
       "count  659.000000  659.000000  659.000000  659.000000    659.000000\n",
       "mean     0.253755    0.354752    0.354897    0.799760   7799.455235\n",
       "std      0.098284    0.269063    0.162946    0.124944   2696.516948\n",
       "min      0.062130    0.029882    0.059524    0.596940   2685.000000\n",
       "25%      0.189349    0.112266    0.246032    0.688868   6270.500000\n",
       "50%      0.239645    0.285529    0.321429    0.795483   7468.000000\n",
       "75%      0.325444    0.586312    0.382937    0.916765   8624.000000\n",
       "max      1.000000    1.000000    1.000000    1.000000  23038.000000"
      ]
     },
     "execution_count": 17,
     "metadata": {},
     "output_type": "execute_result"
    }
   ],
   "source": [
    "target_column = ['UNEMPLOY'] \n",
    "predictors = list(set(list(df.columns))-set(target_column))\n",
    "df[predictors] = df[predictors]/df[predictors].max()\n",
    "df.describe()"
   ]
  },
  {
   "cell_type": "code",
   "execution_count": 18,
   "id": "addf5b1c",
   "metadata": {},
   "outputs": [
    {
     "name": "stdout",
     "output_type": "stream",
     "text": [
      "(461, 4)\n",
      "(198, 4)\n"
     ]
    }
   ],
   "source": [
    "X = df[predictors].values\n",
    "y = df[target_column].values\n",
    "\n",
    "X_train, X_test, y_train, y_test = train_test_split(X, y, test_size=0.30, random_state=40)\n",
    "print(X_train.shape); print(X_test.shape)"
   ]
  },
  {
   "cell_type": "code",
   "execution_count": null,
   "id": "0d311ce3",
   "metadata": {},
   "outputs": [],
   "source": []
  },
  {
   "cell_type": "code",
   "execution_count": 19,
   "id": "50af7d14",
   "metadata": {},
   "outputs": [],
   "source": [
    "#LinearRegression"
   ]
  },
  {
   "cell_type": "code",
   "execution_count": 20,
   "id": "e62c0010",
   "metadata": {},
   "outputs": [
    {
     "data": {
      "text/plain": [
       "LinearRegression()"
      ]
     },
     "execution_count": 20,
     "metadata": {},
     "output_type": "execute_result"
    }
   ],
   "source": [
    "lr = LinearRegression()\n",
    "lr.fit(X_train, y_train)"
   ]
  },
  {
   "cell_type": "code",
   "execution_count": 21,
   "id": "370cdbf8",
   "metadata": {},
   "outputs": [
    {
     "name": "stdout",
     "output_type": "stream",
     "text": [
      "1197.1953365048298\n",
      "0.8126665147535064\n",
      "1181.7990900145478\n",
      "0.7765420685274688\n"
     ]
    }
   ],
   "source": [
    "pred_train_lr= lr.predict(X_train)\n",
    "print(np.sqrt(mean_squared_error(y_train,pred_train_lr)))\n",
    "print(r2_score(y_train, pred_train_lr))\n",
    "\n",
    "pred_test_lr= lr.predict(X_test)\n",
    "print(np.sqrt(mean_squared_error(y_test,pred_test_lr))) \n",
    "print(r2_score(y_test, pred_test_lr))"
   ]
  },
  {
   "cell_type": "code",
   "execution_count": null,
   "id": "c551f5b3",
   "metadata": {},
   "outputs": [],
   "source": []
  },
  {
   "cell_type": "code",
   "execution_count": 22,
   "id": "9eed8040",
   "metadata": {},
   "outputs": [],
   "source": [
    "#Ridge Regression\n",
    "#Ridge"
   ]
  },
  {
   "cell_type": "code",
   "execution_count": 23,
   "id": "fb167fb2",
   "metadata": {},
   "outputs": [
    {
     "name": "stdout",
     "output_type": "stream",
     "text": [
      "1199.2186422989923\n",
      "0.8120327782117314\n",
      "1187.911759741384\n",
      "0.7742244883917245\n"
     ]
    }
   ],
   "source": [
    "rr = Ridge(alpha=0.01)\n",
    "rr.fit(X_train, y_train) \n",
    "pred_train_rr= rr.predict(X_train)\n",
    "print(np.sqrt(mean_squared_error(y_train,pred_train_rr)))\n",
    "print(r2_score(y_train, pred_train_rr))\n",
    "\n",
    "pred_test_rr= rr.predict(X_test)\n",
    "print(np.sqrt(mean_squared_error(y_test,pred_test_rr))) \n",
    "print(r2_score(y_test, pred_test_rr))"
   ]
  },
  {
   "cell_type": "code",
   "execution_count": null,
   "id": "643c5a9b",
   "metadata": {},
   "outputs": [],
   "source": []
  },
  {
   "cell_type": "code",
   "execution_count": 24,
   "id": "bd07404f",
   "metadata": {},
   "outputs": [],
   "source": [
    "#\n",
    "#model_lasso"
   ]
  },
  {
   "cell_type": "code",
   "execution_count": 25,
   "id": "6c51d70b",
   "metadata": {},
   "outputs": [
    {
     "name": "stdout",
     "output_type": "stream",
     "text": [
      "1197.1955933220454\n",
      "0.8126664343815441\n",
      "1181.8591194494652\n",
      "0.7765193668785156\n"
     ]
    }
   ],
   "source": [
    "model_lasso = Lasso(alpha=0.01)\n",
    "model_lasso.fit(X_train, y_train) \n",
    "pred_train_lasso= model_lasso.predict(X_train)\n",
    "print(np.sqrt(mean_squared_error(y_train,pred_train_lasso)))\n",
    "print(r2_score(y_train, pred_train_lasso))\n",
    "\n",
    "pred_test_lasso= model_lasso.predict(X_test)\n",
    "print(np.sqrt(mean_squared_error(y_test,pred_test_lasso))) \n",
    "print(r2_score(y_test, pred_test_lasso))"
   ]
  },
  {
   "cell_type": "code",
   "execution_count": null,
   "id": "32fac0fb",
   "metadata": {},
   "outputs": [],
   "source": []
  },
  {
   "cell_type": "code",
   "execution_count": null,
   "id": "21817947",
   "metadata": {},
   "outputs": [],
   "source": []
  },
  {
   "cell_type": "code",
   "execution_count": 26,
   "id": "0ccb7f2d",
   "metadata": {},
   "outputs": [],
   "source": [
    "#ElasticNet Regression\n",
    "# made by combining ridge & lasso"
   ]
  },
  {
   "cell_type": "code",
   "execution_count": 27,
   "id": "7ebfdd14",
   "metadata": {},
   "outputs": [
    {
     "name": "stdout",
     "output_type": "stream",
     "text": [
      "1670.4846877262494\n",
      "0.6352709307893849\n",
      "1685.5339631453367\n",
      "0.5454480894340827\n"
     ]
    }
   ],
   "source": [
    "#Elastic Net\n",
    "model_enet = ElasticNet(alpha = 0.01)\n",
    "model_enet.fit(X_train, y_train) \n",
    "pred_train_enet= model_enet.predict(X_train)\n",
    "print(np.sqrt(mean_squared_error(y_train,pred_train_enet)))\n",
    "print(r2_score(y_train, pred_train_enet))\n",
    "\n",
    "pred_test_enet= model_enet.predict(X_test)\n",
    "print(np.sqrt(mean_squared_error(y_test,pred_test_enet)))\n",
    "print(r2_score(y_test, pred_test_enet))"
   ]
  },
  {
   "cell_type": "code",
   "execution_count": null,
   "id": "98dc8ce1",
   "metadata": {},
   "outputs": [],
   "source": []
  },
  {
   "cell_type": "code",
   "execution_count": 28,
   "id": "f15e50b9",
   "metadata": {},
   "outputs": [],
   "source": [
    "#Deep Learning Regression Model"
   ]
  },
  {
   "cell_type": "code",
   "execution_count": 29,
   "id": "e62e7ccb",
   "metadata": {},
   "outputs": [],
   "source": [
    "# Keras specific\n",
    "import keras\n",
    "from keras.models import Sequential\n",
    "from keras.layers import Dense"
   ]
  },
  {
   "cell_type": "code",
   "execution_count": 30,
   "id": "e7a025a6",
   "metadata": {},
   "outputs": [
    {
     "name": "stdout",
     "output_type": "stream",
     "text": [
      "Model: \"sequential\"\n",
      "_________________________________________________________________\n",
      " Layer (type)                Output Shape              Param #   \n",
      "=================================================================\n",
      " dense (Dense)               (None, 500)               2500      \n",
      "                                                                 \n",
      " dense_1 (Dense)             (None, 100)               50100     \n",
      "                                                                 \n",
      " dense_2 (Dense)             (None, 50)                5050      \n",
      "                                                                 \n",
      " dense_3 (Dense)             (None, 1)                 51        \n",
      "                                                                 \n",
      "=================================================================\n",
      "Total params: 57,701\n",
      "Trainable params: 57,701\n",
      "Non-trainable params: 0\n",
      "_________________________________________________________________\n"
     ]
    }
   ],
   "source": [
    "\n",
    "model = Sequential()\n",
    "model.add(Dense(500, input_dim=4, activation= \"relu\"))\n",
    "model.add(Dense(100, activation= \"relu\"))\n",
    "model.add(Dense(50, activation= \"relu\"))\n",
    "model.add(Dense(1))\n",
    "model.summary() #Print model Summary"
   ]
  },
  {
   "cell_type": "code",
   "execution_count": null,
   "id": "24234d17",
   "metadata": {},
   "outputs": [],
   "source": []
  },
  {
   "cell_type": "code",
   "execution_count": null,
   "id": "159f3233",
   "metadata": {},
   "outputs": [],
   "source": []
  },
  {
   "cell_type": "code",
   "execution_count": 31,
   "id": "14bc6b63",
   "metadata": {},
   "outputs": [
    {
     "name": "stdout",
     "output_type": "stream",
     "text": [
      "Epoch 1/20\n",
      "15/15 [==============================] - 1s 2ms/step - loss: 70258080.0000 - mean_squared_error: 70258080.0000\n",
      "Epoch 2/20\n",
      "15/15 [==============================] - 0s 2ms/step - loss: 70198080.0000 - mean_squared_error: 70198080.0000\n",
      "Epoch 3/20\n",
      "15/15 [==============================] - 0s 2ms/step - loss: 69983088.0000 - mean_squared_error: 69983088.0000\n",
      "Epoch 4/20\n",
      "15/15 [==============================] - 0s 2ms/step - loss: 69361736.0000 - mean_squared_error: 69361736.0000\n",
      "Epoch 5/20\n",
      "15/15 [==============================] - 0s 2ms/step - loss: 67869560.0000 - mean_squared_error: 67869560.0000\n",
      "Epoch 6/20\n",
      "15/15 [==============================] - 0s 2ms/step - loss: 64762096.0000 - mean_squared_error: 64762096.0000\n",
      "Epoch 7/20\n",
      "15/15 [==============================] - 0s 2ms/step - loss: 59126660.0000 - mean_squared_error: 59126660.0000\n",
      "Epoch 8/20\n",
      "15/15 [==============================] - 0s 2ms/step - loss: 50253792.0000 - mean_squared_error: 50253792.0000\n",
      "Epoch 9/20\n",
      "15/15 [==============================] - 0s 2ms/step - loss: 37898524.0000 - mean_squared_error: 37898524.0000\n",
      "Epoch 10/20\n",
      "15/15 [==============================] - 0s 2ms/step - loss: 23845472.0000 - mean_squared_error: 23845472.0000\n",
      "Epoch 11/20\n",
      "15/15 [==============================] - 0s 2ms/step - loss: 11793864.0000 - mean_squared_error: 11793864.0000\n",
      "Epoch 12/20\n",
      "15/15 [==============================] - 0s 2ms/step - loss: 5749308.0000 - mean_squared_error: 5749308.0000\n",
      "Epoch 13/20\n",
      "15/15 [==============================] - 0s 2ms/step - loss: 4726717.5000 - mean_squared_error: 4726717.5000\n",
      "Epoch 14/20\n",
      "15/15 [==============================] - 0s 2ms/step - loss: 4825953.5000 - mean_squared_error: 4825953.5000\n",
      "Epoch 15/20\n",
      "15/15 [==============================] - 0s 2ms/step - loss: 4748926.5000 - mean_squared_error: 4748926.5000\n",
      "Epoch 16/20\n",
      "15/15 [==============================] - 0s 2ms/step - loss: 4698892.0000 - mean_squared_error: 4698892.0000\n",
      "Epoch 17/20\n",
      "15/15 [==============================] - 0s 2ms/step - loss: 4678281.0000 - mean_squared_error: 4678281.0000\n",
      "Epoch 18/20\n",
      "15/15 [==============================] - 0s 2ms/step - loss: 4666259.0000 - mean_squared_error: 4666259.0000\n",
      "Epoch 19/20\n",
      "15/15 [==============================] - 0s 2ms/step - loss: 4646134.5000 - mean_squared_error: 4646134.5000\n",
      "Epoch 20/20\n",
      "15/15 [==============================] - 0s 2ms/step - loss: 4629495.5000 - mean_squared_error: 4629495.5000\n"
     ]
    },
    {
     "data": {
      "text/plain": [
       "<keras.callbacks.History at 0x14455d00a00>"
      ]
     },
     "execution_count": 31,
     "metadata": {},
     "output_type": "execute_result"
    }
   ],
   "source": [
    "model.compile(loss= \"mean_squared_error\" , optimizer=\"adam\", metrics=[\"mean_squared_error\"])\n",
    "model.fit(X_train, y_train, epochs=20)"
   ]
  },
  {
   "cell_type": "code",
   "execution_count": 32,
   "id": "e1c9835c",
   "metadata": {},
   "outputs": [
    {
     "name": "stdout",
     "output_type": "stream",
     "text": [
      "2148.329279448318\n",
      "2047.172995705839\n"
     ]
    }
   ],
   "source": [
    "pred_train= model.predict(X_train)\n",
    "print(np.sqrt(mean_squared_error(y_train,pred_train)))\n",
    "\n",
    "pred= model.predict(X_test)\n",
    "print(np.sqrt(mean_squared_error(y_test,pred))) "
   ]
  },
  {
   "cell_type": "code",
   "execution_count": 33,
   "id": "1230e2ad",
   "metadata": {},
   "outputs": [
    {
     "name": "stdout",
     "output_type": "stream",
     "text": [
      "0.39676424509908925\n",
      "0.3294710085967977\n"
     ]
    }
   ],
   "source": [
    "\n",
    "print(r2_score(y_train, pred_train))\n",
    "\n",
    "print(r2_score(y_test, pred))"
   ]
  },
  {
   "cell_type": "code",
   "execution_count": null,
   "id": "7cd89dcb",
   "metadata": {},
   "outputs": [],
   "source": []
  }
 ],
 "metadata": {
  "kernelspec": {
   "display_name": "Python 3",
   "language": "python",
   "name": "python3"
  },
  "language_info": {
   "codemirror_mode": {
    "name": "ipython",
    "version": 3
   },
   "file_extension": ".py",
   "mimetype": "text/x-python",
   "name": "python",
   "nbconvert_exporter": "python",
   "pygments_lexer": "ipython3",
   "version": "3.8.8"
  }
 },
 "nbformat": 4,
 "nbformat_minor": 5
}
